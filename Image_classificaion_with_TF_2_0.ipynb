{
  "nbformat": 4,
  "nbformat_minor": 0,
  "metadata": {
    "colab": {
      "name": "Image classificaion with TF.2.0.ipynb",
      "version": "0.3.2",
      "provenance": [],
      "include_colab_link": true
    },
    "kernelspec": {
      "name": "python3",
      "display_name": "Python 3"
    },
    "accelerator": "GPU"
  },
  "cells": [
    {
      "cell_type": "markdown",
      "metadata": {
        "id": "view-in-github",
        "colab_type": "text"
      },
      "source": [
        "<a href=\"https://colab.research.google.com/github/Kalyankr/Tensorflow_2.0-image-classification/blob/master/Image_classificaion_with_TF_2_0.ipynb\" target=\"_parent\"><img src=\"https://colab.research.google.com/assets/colab-badge.svg\" alt=\"Open In Colab\"/></a>"
      ]
    },
    {
      "metadata": {
        "id": "sWlWzEHjYqTP",
        "colab_type": "code",
        "outputId": "48299a20-fc92-4c58-8615-5fff0bd598f9",
        "colab": {
          "base_uri": "https://localhost:8080/",
          "height": 208
        }
      },
      "cell_type": "code",
      "source": [
        "!pip install kaggle"
      ],
      "execution_count": 0,
      "outputs": [
        {
          "output_type": "stream",
          "text": [
            "Requirement already satisfied: kaggle in /usr/local/lib/python3.6/dist-packages (1.5.3)\n",
            "Requirement already satisfied: urllib3<1.25,>=1.21.1 in /usr/local/lib/python3.6/dist-packages (from kaggle) (1.22)\n",
            "Requirement already satisfied: six>=1.10 in /usr/local/lib/python3.6/dist-packages (from kaggle) (1.11.0)\n",
            "Requirement already satisfied: certifi in /usr/local/lib/python3.6/dist-packages (from kaggle) (2019.3.9)\n",
            "Requirement already satisfied: python-dateutil in /usr/local/lib/python3.6/dist-packages (from kaggle) (2.5.3)\n",
            "Requirement already satisfied: requests in /usr/local/lib/python3.6/dist-packages (from kaggle) (2.18.4)\n",
            "Requirement already satisfied: tqdm in /usr/local/lib/python3.6/dist-packages (from kaggle) (4.28.1)\n",
            "Requirement already satisfied: python-slugify in /usr/local/lib/python3.6/dist-packages (from kaggle) (3.0.1)\n",
            "Requirement already satisfied: idna<2.7,>=2.5 in /usr/local/lib/python3.6/dist-packages (from requests->kaggle) (2.6)\n",
            "Requirement already satisfied: chardet<3.1.0,>=3.0.2 in /usr/local/lib/python3.6/dist-packages (from requests->kaggle) (3.0.4)\n",
            "Requirement already satisfied: text-unidecode==1.2 in /usr/local/lib/python3.6/dist-packages (from python-slugify->kaggle) (1.2)\n"
          ],
          "name": "stdout"
        }
      ]
    },
    {
      "metadata": {
        "id": "CESokVN3Y5Pf",
        "colab_type": "code",
        "outputId": "9789eb0a-e14c-414f-8a7f-6fd8a78c257b",
        "colab": {
          "base_uri": "https://localhost:8080/",
          "height": 34
        }
      },
      "cell_type": "code",
      "source": [
        "!mkdir .kaggle\n",
        "import json\n",
        "\n",
        "token = {\"username\":\"kalyankkr\",\"key\":\"eb4490a97832b774a42f565f017cf9ee\"}\n",
        "\n",
        "with open('/content/.kaggle/kaggle.json', 'w') as file:\n",
        "    json.dump(token, file)\n",
        "!cp /content/.kaggle/kaggle.json ~/.kaggle/kaggle.json\n",
        "!kaggle config set -n path -v{/content}\n",
        "!chmod 600 /root/.kaggle/kaggle.json"
      ],
      "execution_count": 0,
      "outputs": [
        {
          "output_type": "stream",
          "text": [
            "mkdir: cannot create directory ‘.kaggle’: File exists\n"
          ],
          "name": "stdout"
        }
      ]
    },
    {
      "metadata": {
        "id": "g9ekx3E1ckK6",
        "colab_type": "code",
        "outputId": "5d8a4ecd-e038-4b48-8243-c1e26a5eadf5",
        "colab": {
          "base_uri": "https://localhost:8080/",
          "height": 419
        }
      },
      "cell_type": "code",
      "source": [
        "!kaggle datasets list"
      ],
      "execution_count": 0,
      "outputs": [
        {
          "output_type": "stream",
          "text": [
            "ref                                                          title                                                size  lastUpdated          downloadCount  \n",
            "-----------------------------------------------------------  --------------------------------------------------  -----  -------------------  -------------  \n",
            "ronitf/heart-disease-uci                                     Heart Disease UCI                                     3KB  2018-06-25 11:33:56          23229  \n",
            "russellyates88/suicide-rates-overview-1985-to-2016           Suicide Rates Overview 1985 to 2016                 396KB  2018-12-01 19:18:25          17338  \n",
            "karangadiya/fifa19                                           FIFA 19 complete player dataset                       2MB  2018-12-21 03:52:59          18921  \n",
            "iarunava/cell-images-for-detecting-malaria                   Malaria Cell Images Dataset                         337MB  2018-12-05 05:40:21           3643  \n",
            "lava18/google-play-store-apps                                Google Play Store Apps                                2MB  2019-02-03 13:55:47          46465  \n",
            "jessicali9530/stanford-dogs-dataset                          Stanford Dogs Dataset                               735MB  2019-02-13 05:45:25           2032  \n",
            "bigquery/crypto-ethereum-classic                             Ethereum Classic Blockchain                          70GB  2019-03-20 23:21:25              0  \n",
            "vjchoudhary7/customer-segmentation-tutorial-in-python        Mall Customer Segmentation Data                       2KB  2018-08-11 07:23:02           5893  \n",
            "noriuk/us-education-datasets-unification-project             U.S. Education Datasets: Unification Project         85MB  2019-03-02 18:41:52           2769  \n",
            "mdhrumil/top-5000-youtube-channels-data-from-socialblade     Top 5000 Youtube channels data from Socialblade.    128KB  2018-09-09 14:05:54           6834  \n",
            "jessicali9530/celeba-dataset                                 CelebFaces Attributes (CelebA) Dataset                1GB  2018-06-01 20:08:48           5893  \n",
            "cityofLA/los-angeles-parking-citations                       Los Angeles Parking Citations                       256MB  2019-04-02 22:18:15           2736  \n",
            "safegraph/visit-patterns-by-census-block-group               Consumer & Visitor Insights For Neighborhoods        66MB  2018-12-19 21:31:50           1152  \n",
            "safegraph/census-block-group-american-community-survey-data  Census Block Group American Community Survey Data     2GB  2018-12-22 00:29:56            614  \n",
            "pavansanagapati/urban-sound-classification                   Urban Sound Classification                            6GB  2018-06-16 13:44:36           2049  \n",
            "anokas/kuzushiji                                             Kuzushiji-MNIST                                     318MB  2018-12-17 01:19:31            707  \n",
            "jutrera/stanford-car-dataset-by-classes-folder               Stanford Car Dataset by classes folder                2GB  2018-07-02 07:35:45           2523  \n",
            "fivethirtyeight/fivethirtyeight-comic-characters-dataset     FiveThirtyEight Comic Characters Dataset            577KB  2019-03-26 15:01:15           1957  \n",
            "mohansacharya/graduate-admissions                            Graduate Admissions                                   9KB  2018-12-28 10:07:14          16447  \n",
            "rmisra/news-headlines-dataset-for-sarcasm-detection          News Headlines Dataset For Sarcasm Detection          2MB  2018-06-09 22:14:56           2249  \n"
          ],
          "name": "stdout"
        }
      ]
    },
    {
      "metadata": {
        "id": "yW0w8IIfz02t",
        "colab_type": "text"
      },
      "cell_type": "markdown",
      "source": [
        "**DATA**"
      ]
    },
    {
      "metadata": {
        "id": "kSqLjND7fMzA",
        "colab_type": "code",
        "outputId": "39c17097-85b9-473a-bdf7-ecc83d1e7a91",
        "colab": {
          "base_uri": "https://localhost:8080/",
          "height": 225
        }
      },
      "cell_type": "code",
      "source": [
        "# Download dataset\n",
        "!mkdir -p data\n",
        "!kaggle competitions download -c aerial-cactus-identification -p data"
      ],
      "execution_count": 0,
      "outputs": [
        {
          "output_type": "stream",
          "text": [
            "Downloading train.csv to data\n",
            "\r  0% 0.00/667k [00:00<?, ?B/s]\n",
            "100% 667k/667k [00:00<00:00, 43.3MB/s]\n",
            "Downloading sample_submission.csv to data\n",
            "  0% 0.00/160k [00:00<?, ?B/s]\n",
            "100% 160k/160k [00:00<00:00, 47.2MB/s]\n",
            "Downloading test.zip to data\n",
            "  0% 0.00/4.20M [00:00<?, ?B/s]\n",
            "100% 4.20M/4.20M [00:00<00:00, 68.5MB/s]\n",
            "Downloading train.zip to data\n",
            " 42% 8.00M/19.2M [00:00<00:00, 81.5MB/s]\n",
            "100% 19.2M/19.2M [00:00<00:00, 123MB/s] \n"
          ],
          "name": "stdout"
        }
      ]
    },
    {
      "metadata": {
        "id": "5E1gBMdMfS1c",
        "colab_type": "code",
        "colab": {}
      },
      "cell_type": "code",
      "source": [
        "# Unzip dataset\n",
        "!unzip data/train.zip -d data\n",
        "!unzip data/test.zip -d data"
      ],
      "execution_count": 0,
      "outputs": []
    },
    {
      "metadata": {
        "id": "HB9MExwzz8MI",
        "colab_type": "text"
      },
      "cell_type": "markdown",
      "source": [
        "# Install **TENSORFLOW 2.0**"
      ]
    },
    {
      "metadata": {
        "id": "UoaCSWDYfYPt",
        "colab_type": "code",
        "outputId": "7e6e4e92-7c4b-4ff5-a3a2-ca5529d50e1c",
        "colab": {
          "base_uri": "https://localhost:8080/",
          "height": 541
        }
      },
      "cell_type": "code",
      "source": [
        "!pip install tensorflow-gpu==2.0.0-alpha0"
      ],
      "execution_count": 0,
      "outputs": [
        {
          "output_type": "stream",
          "text": [
            "Collecting tensorflow-gpu==2.0.0-alpha0\n",
            "\u001b[?25l  Downloading https://files.pythonhosted.org/packages/1a/66/32cffad095253219d53f6b6c2a436637bbe45ac4e7be0244557210dc3918/tensorflow_gpu-2.0.0a0-cp36-cp36m-manylinux1_x86_64.whl (332.1MB)\n",
            "\u001b[K    100% |████████████████████████████████| 332.1MB 72kB/s \n",
            "\u001b[?25hRequirement already satisfied: keras-preprocessing>=1.0.5 in /usr/local/lib/python3.6/dist-packages (from tensorflow-gpu==2.0.0-alpha0) (1.0.9)\n",
            "Collecting tb-nightly<1.14.0a20190302,>=1.14.0a20190301 (from tensorflow-gpu==2.0.0-alpha0)\n",
            "\u001b[?25l  Downloading https://files.pythonhosted.org/packages/a9/51/aa1d756644bf4624c03844115e4ac4058eff77acd786b26315f051a4b195/tb_nightly-1.14.0a20190301-py3-none-any.whl (3.0MB)\n",
            "\u001b[K    100% |████████████████████████████████| 3.0MB 8.8MB/s \n",
            "\u001b[?25hRequirement already satisfied: grpcio>=1.8.6 in /usr/local/lib/python3.6/dist-packages (from tensorflow-gpu==2.0.0-alpha0) (1.15.0)\n",
            "Requirement already satisfied: astor>=0.6.0 in /usr/local/lib/python3.6/dist-packages (from tensorflow-gpu==2.0.0-alpha0) (0.7.1)\n",
            "Collecting tf-estimator-nightly<1.14.0.dev2019030116,>=1.14.0.dev2019030115 (from tensorflow-gpu==2.0.0-alpha0)\n",
            "\u001b[?25l  Downloading https://files.pythonhosted.org/packages/13/82/f16063b4eed210dc2ab057930ac1da4fbe1e91b7b051a6c8370b401e6ae7/tf_estimator_nightly-1.14.0.dev2019030115-py2.py3-none-any.whl (411kB)\n",
            "\u001b[K    100% |████████████████████████████████| 419kB 13.4MB/s \n",
            "\u001b[?25hCollecting google-pasta>=0.1.2 (from tensorflow-gpu==2.0.0-alpha0)\n",
            "\u001b[?25l  Downloading https://files.pythonhosted.org/packages/8c/96/adbd4eafe72ce9b5ca6f168fbf109386e1b601f7c59926a11e9d7b7a5b44/google_pasta-0.1.4-py3-none-any.whl (51kB)\n",
            "\u001b[K    100% |████████████████████████████████| 61kB 24.1MB/s \n",
            "\u001b[?25hRequirement already satisfied: numpy<2.0,>=1.14.5 in /usr/local/lib/python3.6/dist-packages (from tensorflow-gpu==2.0.0-alpha0) (1.14.6)\n",
            "Requirement already satisfied: termcolor>=1.1.0 in /usr/local/lib/python3.6/dist-packages (from tensorflow-gpu==2.0.0-alpha0) (1.1.0)\n",
            "Requirement already satisfied: wheel>=0.26 in /usr/local/lib/python3.6/dist-packages (from tensorflow-gpu==2.0.0-alpha0) (0.33.1)\n",
            "Requirement already satisfied: gast>=0.2.0 in /usr/local/lib/python3.6/dist-packages (from tensorflow-gpu==2.0.0-alpha0) (0.2.2)\n",
            "Requirement already satisfied: protobuf>=3.6.1 in /usr/local/lib/python3.6/dist-packages (from tensorflow-gpu==2.0.0-alpha0) (3.7.1)\n",
            "Requirement already satisfied: six>=1.10.0 in /usr/local/lib/python3.6/dist-packages (from tensorflow-gpu==2.0.0-alpha0) (1.11.0)\n",
            "Requirement already satisfied: absl-py>=0.7.0 in /usr/local/lib/python3.6/dist-packages (from tensorflow-gpu==2.0.0-alpha0) (0.7.1)\n",
            "Requirement already satisfied: keras-applications>=1.0.6 in /usr/local/lib/python3.6/dist-packages (from tensorflow-gpu==2.0.0-alpha0) (1.0.7)\n",
            "Requirement already satisfied: markdown>=2.6.8 in /usr/local/lib/python3.6/dist-packages (from tb-nightly<1.14.0a20190302,>=1.14.0a20190301->tensorflow-gpu==2.0.0-alpha0) (3.1)\n",
            "Requirement already satisfied: werkzeug>=0.11.15 in /usr/local/lib/python3.6/dist-packages (from tb-nightly<1.14.0a20190302,>=1.14.0a20190301->tensorflow-gpu==2.0.0-alpha0) (0.15.1)\n",
            "Requirement already satisfied: setuptools in /usr/local/lib/python3.6/dist-packages (from protobuf>=3.6.1->tensorflow-gpu==2.0.0-alpha0) (40.8.0)\n",
            "Requirement already satisfied: h5py in /usr/local/lib/python3.6/dist-packages (from keras-applications>=1.0.6->tensorflow-gpu==2.0.0-alpha0) (2.8.0)\n",
            "Installing collected packages: tb-nightly, tf-estimator-nightly, google-pasta, tensorflow-gpu\n",
            "Successfully installed google-pasta-0.1.4 tb-nightly-1.14.0a20190301 tensorflow-gpu-2.0.0a0 tf-estimator-nightly-1.14.0.dev2019030115\n"
          ],
          "name": "stdout"
        }
      ]
    },
    {
      "metadata": {
        "id": "N0Yiqw4BkHpN",
        "colab_type": "code",
        "outputId": "48aaedad-f1f3-41c4-80f3-de57e1044a63",
        "colab": {
          "base_uri": "https://localhost:8080/",
          "height": 34
        }
      },
      "cell_type": "code",
      "source": [
        "import tensorflow as tf \n",
        "import pandas as pd\n",
        "import matplotlib.pyplot as plt\n",
        "from sklearn.model_selection import train_test_split\n",
        "from IPython.display import Image, display\n",
        "print(tf.__version__)"
      ],
      "execution_count": 0,
      "outputs": [
        {
          "output_type": "stream",
          "text": [
            "2.0.0-alpha0\n"
          ],
          "name": "stdout"
        }
      ]
    },
    {
      "metadata": {
        "id": "AGI14-8CkiFy",
        "colab_type": "code",
        "outputId": "0116b429-25d0-4ba9-ad71-e3df4c8b7b0c",
        "colab": {
          "base_uri": "https://localhost:8080/",
          "height": 278
        }
      },
      "cell_type": "code",
      "source": [
        "train=pd.read_csv(\"data/train.csv\")\n",
        "print(train.describe())\n",
        "print(train.head())"
      ],
      "execution_count": 0,
      "outputs": [
        {
          "output_type": "stream",
          "text": [
            "         has_cactus\n",
            "count  17500.000000\n",
            "mean       0.750629\n",
            "std        0.432662\n",
            "min        0.000000\n",
            "25%        1.000000\n",
            "50%        1.000000\n",
            "75%        1.000000\n",
            "max        1.000000\n",
            "                                     id  has_cactus\n",
            "0  0004be2cfeaba1c0361d39e2b000257b.jpg           1\n",
            "1  000c8a36845c0208e833c79c1bffedd1.jpg           1\n",
            "2  000d1e9a533f62e55c289303b072733d.jpg           1\n",
            "3  0011485b40695e9138e92d0b3fb55128.jpg           1\n",
            "4  0014d7a11e90b62848904c1418fc8cf2.jpg           1\n"
          ],
          "name": "stdout"
        }
      ]
    },
    {
      "metadata": {
        "id": "j-dq-TmY0IU6",
        "colab_type": "text"
      },
      "cell_type": "markdown",
      "source": [
        "**Dispay images**"
      ]
    },
    {
      "metadata": {
        "id": "Y0tIHTG4kvN6",
        "colab_type": "code",
        "outputId": "00d13bd1-6272-4bbd-dc3c-1e2e72c17ce6",
        "colab": {
          "base_uri": "https://localhost:8080/",
          "height": 116
        }
      },
      "cell_type": "code",
      "source": [
        "print(\"Cactus\")\n",
        "display(Image(\"data/train/0004be2cfeaba1c0361d39e2b000257b.jpg\"))\n",
        "print(\"NOT cactus\")\n",
        "display(Image('data/train/ffede47a74e47a5930f81c0b6896479e.jpg'))"
      ],
      "execution_count": 0,
      "outputs": [
        {
          "output_type": "stream",
          "text": [
            "Cactus\n"
          ],
          "name": "stdout"
        },
        {
          "output_type": "display_data",
          "data": {
            "image/jpeg": "[encoded data removed]",
            "text/plain": [
              "<IPython.core.display.Image object>"
            ]
          },
          "metadata": {
            "tags": []
          }
        },
        {
          "output_type": "stream",
          "text": [
            "NOT cactus\n"
          ],
          "name": "stdout"
        },
        {
          "output_type": "display_data",
          "data": {
            "image/jpeg": "[encoded data removed]",
            "text/plain": [
              "<IPython.core.display.Image object>"
            ]
          },
          "metadata": {
            "tags": []
          }
        }
      ]
    },
    {
      "metadata": {
        "id": "ffOP07VolFsD",
        "colab_type": "code",
        "outputId": "02e8531f-06bd-452a-ab5f-6a215e71d64c",
        "colab": {
          "base_uri": "https://localhost:8080/",
          "height": 72
        }
      },
      "cell_type": "code",
      "source": [
        "filenames=[\"data/train/\"+ fname for fname in train[\"id\"].tolist()]\n",
        "labels=train[\"has_cactus\"].tolist()\n",
        "\n",
        "train_fnames,val_fnames,train_labels,val_labels=train_test_split(filenames,labels,train_size=0.9,random_state=42)\n",
        "\n",
        "num_train=len(train_fnames)\n",
        "num_val=len(val_fnames)"
      ],
      "execution_count": 0,
      "outputs": [
        {
          "output_type": "stream",
          "text": [
            "/usr/local/lib/python3.6/dist-packages/sklearn/model_selection/_split.py:2179: FutureWarning: From version 0.21, test_size will always complement train_size unless both are specified.\n",
            "  FutureWarning)\n"
          ],
          "name": "stderr"
        }
      ]
    },
    {
      "metadata": {
        "id": "90hG-rQ_0Pq2",
        "colab_type": "text"
      },
      "cell_type": "markdown",
      "source": [
        "Decoding the images"
      ]
    },
    {
      "metadata": {
        "id": "_nh31s3YmbmV",
        "colab_type": "code",
        "colab": {}
      },
      "cell_type": "code",
      "source": [
        "Image_size=96\n",
        "\n",
        "\n",
        "def _parse_fn(filename, label):\n",
        "  image_string = tf.io.read_file(filename)\n",
        "  image_decoded = tf.image.decode_jpeg(image_string)\n",
        "  image_normalized = (tf.cast(image_decoded, tf.float32)/127.5) - 1\n",
        "  image_resized = tf.image.resize(image_normalized, (Image_size, Image_size))\n",
        "  return image_resized, label"
      ],
      "execution_count": 0,
      "outputs": []
    },
    {
      "metadata": {
        "id": "vwFcRlAGnNJt",
        "colab_type": "code",
        "colab": {}
      },
      "cell_type": "code",
      "source": [
        "BATCH_SIZE = 32\n",
        "\n",
        "train_data = tf.data.Dataset.from_tensor_slices((tf.constant(train_fnames), tf.constant(train_labels))).map(_parse_fn).shuffle(buffer_size=10000).batch(BATCH_SIZE)\n",
        "\n",
        "\n",
        "val_data = tf.data.Dataset.from_tensor_slices((tf.constant(val_fnames), tf.constant(val_labels))).map(_parse_fn).batch(BATCH_SIZE)"
      ],
      "execution_count": 0,
      "outputs": []
    },
    {
      "metadata": {
        "id": "xobZUZLY0Ue0",
        "colab_type": "text"
      },
      "cell_type": "markdown",
      "source": [
        "**Model MobileNetV2**"
      ]
    },
    {
      "metadata": {
        "id": "jU90XkL9n1J7",
        "colab_type": "code",
        "outputId": "67177eeb-f384-43d6-d7fb-a25ecb23932b",
        "colab": {
          "base_uri": "https://localhost:8080/",
          "height": 72
        }
      },
      "cell_type": "code",
      "source": [
        "img_shape=(Image_size,Image_size,3)\n",
        "\n",
        "base_model=tf.keras.applications.MobileNetV2(input_shape=img_shape,include_top=False,\n",
        "                                           weights=\"imagenet\")\n",
        "base_model.trainable=False"
      ],
      "execution_count": 0,
      "outputs": [
        {
          "output_type": "stream",
          "text": [
            "Downloading data from https://github.com/JonathanCMitchell/mobilenet_v2_keras/releases/download/v1.1/mobilenet_v2_weights_tf_dim_ordering_tf_kernels_1.0_96_no_top.h5\n",
            "9412608/9406464 [==============================] - 0s 0us/step\n"
          ],
          "name": "stdout"
        }
      ]
    },
    {
      "metadata": {
        "id": "GWUyAYaB0bWu",
        "colab_type": "text"
      },
      "cell_type": "markdown",
      "source": [
        "Final layers for mobilenetV2\n",
        "Adding Globalmax pooling and Output Dense layer "
      ]
    },
    {
      "metadata": {
        "id": "AuGGgGiTpMd5",
        "colab_type": "code",
        "colab": {}
      },
      "cell_type": "code",
      "source": [
        "maxpool_layer=tf.keras.layers.GlobalMaxPooling2D()\n",
        "prediction_layer=tf.keras.layers.Dense(1,activation=\"sigmoid\")"
      ],
      "execution_count": 0,
      "outputs": []
    },
    {
      "metadata": {
        "id": "gaCViH_7pkK5",
        "colab_type": "code",
        "outputId": "8662a076-6f11-4b1d-d83e-865e474393a5",
        "colab": {
          "base_uri": "https://localhost:8080/",
          "height": 260
        }
      },
      "cell_type": "code",
      "source": [
        "learning_rate= 0.1**4\n",
        "\n",
        "model= tf.keras.Sequential([base_model,maxpool_layer,prediction_layer])\n",
        "\n",
        "model.compile(optimizer=tf.keras.optimizers.Adam(lr=learning_rate),loss=\"binary_crossentropy\",metrics=[\"accuracy\"])\n",
        "\n",
        "model.summary()"
      ],
      "execution_count": 0,
      "outputs": [
        {
          "output_type": "stream",
          "text": [
            "Model: \"sequential_2\"\n",
            "_________________________________________________________________\n",
            "Layer (type)                 Output Shape              Param #   \n",
            "=================================================================\n",
            "mobilenetv2_1.00_96 (Model)  (None, 3, 3, 1280)        2257984   \n",
            "_________________________________________________________________\n",
            "global_max_pooling2d (Global (None, 1280)              0         \n",
            "_________________________________________________________________\n",
            "dense (Dense)                (None, 1)                 1281      \n",
            "=================================================================\n",
            "Total params: 2,259,265\n",
            "Trainable params: 1,281\n",
            "Non-trainable params: 2,257,984\n",
            "_________________________________________________________________\n"
          ],
          "name": "stdout"
        }
      ]
    },
    {
      "metadata": {
        "id": "_P_QJDcLqH_W",
        "colab_type": "code",
        "colab": {}
      },
      "cell_type": "code",
      "source": [
        "#Train\n",
        "\n",
        "num_epochs=30\n",
        "steps_per_epoch=round(num_train)//BATCH_SIZE\n",
        "val_steps=20"
      ],
      "execution_count": 0,
      "outputs": []
    },
    {
      "metadata": {
        "id": "DghROLnGqySO",
        "colab_type": "code",
        "outputId": "8d806a2e-e8e3-4260-ecc4-73e1e25e957e",
        "colab": {
          "base_uri": "https://localhost:8080/",
          "height": 1059
        }
      },
      "cell_type": "code",
      "source": [
        "history=model.fit(train_data.repeat(),epochs=num_epochs,steps_per_epoch=steps_per_epoch,validation_data=val_data.repeat(),validation_steps=val_steps)"
      ],
      "execution_count": 0,
      "outputs": [
        {
          "output_type": "stream",
          "text": [
            "Epoch 1/30\n",
            "492/492 [==============================] - 34s 70ms/step - loss: 0.3877 - accuracy: 0.8441 - val_loss: 0.4893 - val_accuracy: 0.7703\n",
            "Epoch 2/30\n",
            "492/492 [==============================] - 28s 56ms/step - loss: 0.2037 - accuracy: 0.9200 - val_loss: 0.3917 - val_accuracy: 0.8188\n",
            "Epoch 3/30\n",
            "492/492 [==============================] - 26s 52ms/step - loss: 0.1690 - accuracy: 0.9352 - val_loss: 0.2971 - val_accuracy: 0.8625\n",
            "Epoch 4/30\n",
            "492/492 [==============================] - 27s 55ms/step - loss: 0.1497 - accuracy: 0.9426 - val_loss: 0.2306 - val_accuracy: 0.9078\n",
            "Epoch 5/30\n",
            "492/492 [==============================] - 25s 52ms/step - loss: 0.1346 - accuracy: 0.9488 - val_loss: 0.2062 - val_accuracy: 0.9094\n",
            "Epoch 6/30\n",
            "492/492 [==============================] - 27s 55ms/step - loss: 0.1230 - accuracy: 0.9520 - val_loss: 0.2367 - val_accuracy: 0.8906\n",
            "Epoch 7/30\n",
            "492/492 [==============================] - 26s 52ms/step - loss: 0.1212 - accuracy: 0.9519 - val_loss: 0.1490 - val_accuracy: 0.9375\n",
            "Epoch 8/30\n",
            "492/492 [==============================] - 27s 56ms/step - loss: 0.1135 - accuracy: 0.9581 - val_loss: 0.1701 - val_accuracy: 0.9312\n",
            "Epoch 9/30\n",
            "492/492 [==============================] - 25s 52ms/step - loss: 0.1071 - accuracy: 0.9591 - val_loss: 0.1243 - val_accuracy: 0.9484\n",
            "Epoch 10/30\n",
            "492/492 [==============================] - 27s 55ms/step - loss: 0.1088 - accuracy: 0.9586 - val_loss: 0.0987 - val_accuracy: 0.9547\n",
            "Epoch 11/30\n",
            "492/492 [==============================] - 26s 52ms/step - loss: 0.1045 - accuracy: 0.9608 - val_loss: 0.0810 - val_accuracy: 0.9703\n",
            "Epoch 12/30\n",
            "492/492 [==============================] - 27s 55ms/step - loss: 0.0974 - accuracy: 0.9617 - val_loss: 0.0789 - val_accuracy: 0.9641\n",
            "Epoch 13/30\n",
            "492/492 [==============================] - 26s 52ms/step - loss: 0.0972 - accuracy: 0.9633 - val_loss: 0.0767 - val_accuracy: 0.9656\n",
            "Epoch 14/30\n",
            "492/492 [==============================] - 27s 56ms/step - loss: 0.0948 - accuracy: 0.9623 - val_loss: 0.0759 - val_accuracy: 0.9656\n",
            "Epoch 15/30\n",
            "492/492 [==============================] - 26s 53ms/step - loss: 0.0909 - accuracy: 0.9637 - val_loss: 0.0739 - val_accuracy: 0.9672\n",
            "Epoch 16/30\n",
            "492/492 [==============================] - 27s 55ms/step - loss: 0.0906 - accuracy: 0.9642 - val_loss: 0.0726 - val_accuracy: 0.9656\n",
            "Epoch 17/30\n",
            "492/492 [==============================] - 25s 52ms/step - loss: 0.0901 - accuracy: 0.9644 - val_loss: 0.0738 - val_accuracy: 0.9703\n",
            "Epoch 18/30\n",
            "492/492 [==============================] - 27s 55ms/step - loss: 0.0844 - accuracy: 0.9668 - val_loss: 0.0735 - val_accuracy: 0.9688\n",
            "Epoch 19/30\n",
            "492/492 [==============================] - 25s 52ms/step - loss: 0.0880 - accuracy: 0.9648 - val_loss: 0.0746 - val_accuracy: 0.9766\n",
            "Epoch 20/30\n",
            "492/492 [==============================] - 27s 55ms/step - loss: 0.0829 - accuracy: 0.9689 - val_loss: 0.0707 - val_accuracy: 0.9734\n",
            "Epoch 21/30\n",
            "492/492 [==============================] - 25s 52ms/step - loss: 0.0857 - accuracy: 0.9659 - val_loss: 0.0712 - val_accuracy: 0.9750\n",
            "Epoch 22/30\n",
            "492/492 [==============================] - 27s 55ms/step - loss: 0.0867 - accuracy: 0.9662 - val_loss: 0.0700 - val_accuracy: 0.9719\n",
            "Epoch 23/30\n",
            "492/492 [==============================] - 25s 50ms/step - loss: 0.0823 - accuracy: 0.9686 - val_loss: 0.0700 - val_accuracy: 0.9766\n",
            "Epoch 24/30\n",
            "492/492 [==============================] - 27s 55ms/step - loss: 0.0787 - accuracy: 0.9710 - val_loss: 0.0711 - val_accuracy: 0.9703\n",
            "Epoch 25/30\n",
            "492/492 [==============================] - 26s 52ms/step - loss: 0.0906 - accuracy: 0.9658 - val_loss: 0.0705 - val_accuracy: 0.9766\n",
            "Epoch 26/30\n",
            "492/492 [==============================] - 27s 55ms/step - loss: 0.0804 - accuracy: 0.9688 - val_loss: 0.0678 - val_accuracy: 0.9719\n",
            "Epoch 27/30\n",
            "492/492 [==============================] - 26s 52ms/step - loss: 0.0789 - accuracy: 0.9694 - val_loss: 0.0688 - val_accuracy: 0.9703\n",
            "Epoch 28/30\n",
            "492/492 [==============================] - 27s 55ms/step - loss: 0.0805 - accuracy: 0.9698 - val_loss: 0.0801 - val_accuracy: 0.9703\n",
            "Epoch 29/30\n",
            "492/492 [==============================] - 26s 52ms/step - loss: 0.0786 - accuracy: 0.9692 - val_loss: 0.0689 - val_accuracy: 0.9688\n",
            "Epoch 30/30\n",
            "492/492 [==============================] - 27s 55ms/step - loss: 0.0818 - accuracy: 0.9670 - val_loss: 0.0676 - val_accuracy: 0.9766\n"
          ],
          "name": "stdout"
        }
      ]
    },
    {
      "metadata": {
        "id": "Pq8end7brKAG",
        "colab_type": "code",
        "colab": {}
      },
      "cell_type": "code",
      "source": [
        "# Save model weights\n",
        "model.save_weights('weights_epoch_30.h5')"
      ],
      "execution_count": 0,
      "outputs": []
    },
    {
      "metadata": {
        "id": "XbdggtUWsvgP",
        "colab_type": "code",
        "outputId": "9b37f5d7-6e3d-4140-96f0-7140eb1814e9",
        "colab": {
          "base_uri": "https://localhost:8080/",
          "height": 512
        }
      },
      "cell_type": "code",
      "source": [
        "acc = history.history['accuracy']\n",
        "val_acc = history.history['val_accuracy']\n",
        "\n",
        "loss = history.history['loss']\n",
        "val_loss = history.history['val_loss']\n",
        "\n",
        "plt.figure(figsize=(8, 8))\n",
        "plt.subplot(2, 1, 1)\n",
        "plt.plot(acc, label='Training Accuracy')\n",
        "plt.plot(val_acc, label='Validation Accuracy')\n",
        "plt.legend(loc='lower right')\n",
        "plt.ylabel('Accuracy')\n",
        "plt.title('Training and Validation Accuracy')\n",
        "\n",
        "plt.subplot(2, 1, 2)\n",
        "plt.plot(loss, label='Training Loss')\n",
        "plt.plot(val_loss, label='Validation Loss')\n",
        "plt.legend(loc='upper right')\n",
        "plt.ylabel('Cross Entropy')\n",
        "plt.title('Training and Validation Loss')\n",
        "plt.xlabel('epoch')\n",
        "plt.show()"
      ],
      "execution_count": 0,
      "outputs": [
        {
          "output_type": "display_data",
          "data": {
            "image/png": "[encoded data removed]",
            "text/plain": [
              "<Figure size 576x576 with 2 Axes>"
            ]
          },
          "metadata": {
            "tags": []
          }
        }
      ]
    },
    {
      "metadata": {
        "id": "fPua6ZL9uc04",
        "colab_type": "code",
        "colab": {}
      },
      "cell_type": "code",
      "source": [
        "# Unfreeze all layers of MobileNetV2\n",
        "base_model.trainable = True\n",
        "\n",
        "# Refreeze layers until the layers we want to fine-tune\n",
        "for layer in base_model.layers[:100]:\n",
        "  layer.trainable =  False\n"
      ],
      "execution_count": 0,
      "outputs": []
    },
    {
      "metadata": {
        "id": "z14YA4OY0piZ",
        "colab_type": "text"
      },
      "cell_type": "markdown",
      "source": [
        "**Fine tuning**"
      ]
    },
    {
      "metadata": {
        "id": "fESctPU3uoXn",
        "colab_type": "code",
        "outputId": "28fc1103-343c-49c0-9e7c-02b66d3cdcf7",
        "colab": {
          "base_uri": "https://localhost:8080/",
          "height": 260
        }
      },
      "cell_type": "code",
      "source": [
        "\n",
        "\n",
        "model.compile(loss='binary_crossentropy',\n",
        "              optimizer = tf.keras.optimizers.Adam(lr=learning_rate/10),\n",
        "              metrics=['accuracy'])\n",
        "model.summary()\n",
        "\n"
      ],
      "execution_count": 0,
      "outputs": [
        {
          "output_type": "stream",
          "text": [
            "Model: \"sequential_2\"\n",
            "_________________________________________________________________\n",
            "Layer (type)                 Output Shape              Param #   \n",
            "=================================================================\n",
            "mobilenetv2_1.00_96 (Model)  (None, 3, 3, 1280)        2257984   \n",
            "_________________________________________________________________\n",
            "global_max_pooling2d (Global (None, 1280)              0         \n",
            "_________________________________________________________________\n",
            "dense (Dense)                (None, 1)                 1281      \n",
            "=================================================================\n",
            "Total params: 2,259,265\n",
            "Trainable params: 1,863,873\n",
            "Non-trainable params: 395,392\n",
            "_________________________________________________________________\n"
          ],
          "name": "stdout"
        }
      ]
    },
    {
      "metadata": {
        "id": "iCKHr2WZusQI",
        "colab_type": "code",
        "outputId": "1096404c-c84d-4b20-fc5f-2b60c7b4f905",
        "colab": {
          "base_uri": "https://localhost:8080/",
          "height": 1059
        }
      },
      "cell_type": "code",
      "source": [
        "fine_tune_epochs = 30\n",
        "total_epochs =  num_epochs + fine_tune_epochs\n",
        "\n",
        "history_fine = model.fit(train_data.repeat(), \n",
        "                         steps_per_epoch = steps_per_epoch,\n",
        "                         epochs=total_epochs, \n",
        "                         initial_epoch = num_epochs,\n",
        "                         validation_data=val_data.repeat(), \n",
        "                         validation_steps=val_steps)"
      ],
      "execution_count": 0,
      "outputs": [
        {
          "output_type": "stream",
          "text": [
            "Epoch 31/60\n",
            "492/492 [==============================] - 55s 113ms/step - loss: 0.0647 - accuracy: 0.9757 - val_loss: 0.0507 - val_accuracy: 0.9797\n",
            "Epoch 32/60\n",
            "492/492 [==============================] - 37s 76ms/step - loss: 0.0509 - accuracy: 0.9815 - val_loss: 0.0448 - val_accuracy: 0.9812\n",
            "Epoch 33/60\n",
            "492/492 [==============================] - 36s 73ms/step - loss: 0.0404 - accuracy: 0.9857 - val_loss: 0.0394 - val_accuracy: 0.9906\n",
            "Epoch 34/60\n",
            "492/492 [==============================] - 36s 72ms/step - loss: 0.0310 - accuracy: 0.9894 - val_loss: 0.0308 - val_accuracy: 0.9891\n",
            "Epoch 35/60\n",
            "492/492 [==============================] - 38s 77ms/step - loss: 0.0244 - accuracy: 0.9917 - val_loss: 0.0271 - val_accuracy: 0.9937\n",
            "Epoch 36/60\n",
            "492/492 [==============================] - 36s 73ms/step - loss: 0.0191 - accuracy: 0.9934 - val_loss: 0.0225 - val_accuracy: 0.9922\n",
            "Epoch 37/60\n",
            "492/492 [==============================] - 36s 72ms/step - loss: 0.0178 - accuracy: 0.9945 - val_loss: 0.0230 - val_accuracy: 0.9922\n",
            "Epoch 38/60\n",
            "492/492 [==============================] - 38s 77ms/step - loss: 0.0138 - accuracy: 0.9958 - val_loss: 0.0209 - val_accuracy: 0.9937\n",
            "Epoch 39/60\n",
            "492/492 [==============================] - 37s 75ms/step - loss: 0.0117 - accuracy: 0.9958 - val_loss: 0.0193 - val_accuracy: 0.9937\n",
            "Epoch 40/60\n",
            "492/492 [==============================] - 36s 73ms/step - loss: 0.0115 - accuracy: 0.9961 - val_loss: 0.0153 - val_accuracy: 0.9937\n",
            "Epoch 41/60\n",
            "492/492 [==============================] - 38s 78ms/step - loss: 0.0098 - accuracy: 0.9970 - val_loss: 0.0182 - val_accuracy: 0.9922\n",
            "Epoch 42/60\n",
            "492/492 [==============================] - 37s 75ms/step - loss: 0.0078 - accuracy: 0.9976 - val_loss: 0.0124 - val_accuracy: 0.9969\n",
            "Epoch 43/60\n",
            "492/492 [==============================] - 36s 73ms/step - loss: 0.0076 - accuracy: 0.9982 - val_loss: 0.0137 - val_accuracy: 0.9937\n",
            "Epoch 44/60\n",
            "492/492 [==============================] - 38s 77ms/step - loss: 0.0059 - accuracy: 0.9987 - val_loss: 0.0147 - val_accuracy: 0.9937\n",
            "Epoch 45/60\n",
            "492/492 [==============================] - 36s 73ms/step - loss: 0.0051 - accuracy: 0.9985 - val_loss: 0.0126 - val_accuracy: 0.9937\n",
            "Epoch 46/60\n",
            "492/492 [==============================] - 35s 71ms/step - loss: 0.0040 - accuracy: 0.9992 - val_loss: 0.0149 - val_accuracy: 0.9937\n",
            "Epoch 47/60\n",
            "492/492 [==============================] - 38s 77ms/step - loss: 0.0053 - accuracy: 0.9987 - val_loss: 0.0143 - val_accuracy: 0.9953\n",
            "Epoch 48/60\n",
            "492/492 [==============================] - 37s 75ms/step - loss: 0.0038 - accuracy: 0.9990 - val_loss: 0.0140 - val_accuracy: 0.9922\n",
            "Epoch 49/60\n",
            "492/492 [==============================] - 36s 74ms/step - loss: 0.0030 - accuracy: 0.9994 - val_loss: 0.0103 - val_accuracy: 0.9969\n",
            "Epoch 50/60\n",
            "492/492 [==============================] - 38s 77ms/step - loss: 0.0044 - accuracy: 0.9992 - val_loss: 0.0094 - val_accuracy: 0.9969\n",
            "Epoch 51/60\n",
            "492/492 [==============================] - 37s 74ms/step - loss: 0.0027 - accuracy: 0.9994 - val_loss: 0.0098 - val_accuracy: 0.9953\n",
            "Epoch 52/60\n",
            "492/492 [==============================] - 36s 73ms/step - loss: 0.0028 - accuracy: 0.9992 - val_loss: 0.0095 - val_accuracy: 0.9937\n",
            "Epoch 53/60\n",
            "492/492 [==============================] - 38s 78ms/step - loss: 0.0025 - accuracy: 0.9992 - val_loss: 0.0124 - val_accuracy: 0.9953\n",
            "Epoch 54/60\n",
            "492/492 [==============================] - 37s 75ms/step - loss: 0.0023 - accuracy: 0.9996 - val_loss: 0.0082 - val_accuracy: 0.9969\n",
            "Epoch 55/60\n",
            "492/492 [==============================] - 36s 73ms/step - loss: 0.0043 - accuracy: 0.9989 - val_loss: 0.0091 - val_accuracy: 0.9953\n",
            "Epoch 56/60\n",
            "492/492 [==============================] - 38s 78ms/step - loss: 0.0018 - accuracy: 0.9997 - val_loss: 0.0092 - val_accuracy: 0.9953\n",
            "Epoch 57/60\n",
            "492/492 [==============================] - 37s 74ms/step - loss: 0.0018 - accuracy: 0.9995 - val_loss: 0.0093 - val_accuracy: 0.9953\n",
            "Epoch 58/60\n",
            "492/492 [==============================] - 36s 74ms/step - loss: 0.0018 - accuracy: 0.9994 - val_loss: 0.0074 - val_accuracy: 0.9953\n",
            "Epoch 59/60\n",
            "492/492 [==============================] - 38s 78ms/step - loss: 0.0015 - accuracy: 0.9998 - val_loss: 0.0084 - val_accuracy: 0.9953\n",
            "Epoch 60/60\n",
            "492/492 [==============================] - 37s 76ms/step - loss: 0.0022 - accuracy: 0.9996 - val_loss: 0.0098 - val_accuracy: 0.9937\n"
          ],
          "name": "stdout"
        }
      ]
    },
    {
      "metadata": {
        "id": "PuhOb5-fu4rs",
        "colab_type": "code",
        "colab": {}
      },
      "cell_type": "code",
      "source": [
        "# Save fine-tuned model weights\n",
        "model.save_weights('weights_epoch_50_finetuned.h5')"
      ],
      "execution_count": 0,
      "outputs": []
    },
    {
      "metadata": {
        "id": "oRqTHmEVzebd",
        "colab_type": "code",
        "colab": {}
      },
      "cell_type": "code",
      "source": [
        "acc += history_fine.history['accuracy']\n",
        "val_acc += history_fine.history['val_accuracy']\n",
        "\n",
        "loss += history_fine.history['loss']\n",
        "val_loss += history_fine.history['val_loss']"
      ],
      "execution_count": 0,
      "outputs": []
    },
    {
      "metadata": {
        "id": "LAghjVmGzjE6",
        "colab_type": "code",
        "outputId": "bd494695-e824-4909-96ff-cc54ea96476e",
        "colab": {
          "base_uri": "https://localhost:8080/",
          "height": 512
        }
      },
      "cell_type": "code",
      "source": [
        "plt.figure(figsize=(8, 8))\n",
        "plt.subplot(2, 1, 1)\n",
        "plt.plot(acc, label='Training Accuracy')\n",
        "plt.plot(val_acc, label='Validation Accuracy')\n",
        "plt.plot([num_epochs-1,num_epochs-1], \n",
        "          plt.ylim(), label='Start Fine Tuning')\n",
        "plt.legend(loc='lower right')\n",
        "plt.title('Training and Validation Accuracy')\n",
        "\n",
        "plt.subplot(2, 1, 2)\n",
        "plt.plot(loss, label='Training Loss')\n",
        "plt.plot(val_loss, label='Validation Loss')\n",
        "plt.plot([num_epochs-1,num_epochs-1], \n",
        "         plt.ylim(), label='Start Fine Tuning')\n",
        "plt.legend(loc='upper right')\n",
        "plt.title('Training and Validation Loss')\n",
        "plt.xlabel('epoch')\n",
        "plt.show()"
      ],
      "execution_count": 0,
      "outputs": [
        {
          "output_type": "display_data",
          "data": {
            "image/png": "[encoded data removed]",
            "text/plain": [
              "<Figure size 576x576 with 2 Axes>"
            ]
          },
          "metadata": {
            "tags": []
          }
        }
      ]
    },
    {
      "metadata": {
        "id": "WRfPq72hzohN",
        "colab_type": "code",
        "colab": {}
      },
      "cell_type": "code",
      "source": [
        ""
      ],
      "execution_count": 0,
      "outputs": []
    }
  ]
}